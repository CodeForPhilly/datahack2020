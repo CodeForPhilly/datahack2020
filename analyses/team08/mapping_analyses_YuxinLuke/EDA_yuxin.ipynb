{
 "cells": [
  {
   "cell_type": "code",
   "execution_count": 1,
   "metadata": {},
   "outputs": [],
   "source": [
    "import pandas as pd\n",
    "import numpy as np\n",
    "import matplotlib.pyplot as plt\n",
    "%matplotlib inline"
   ]
  },
  {
   "cell_type": "code",
   "execution_count": 19,
   "metadata": {},
   "outputs": [],
   "source": [
    "data_name = '../data/data/pp_refill_zipcode_metrics.csv'"
   ]
  },
  {
   "cell_type": "code",
   "execution_count": 20,
   "metadata": {},
   "outputs": [],
   "source": [
    "df_zip = pd.read_csv(data_name)"
   ]
  },
  {
   "cell_type": "code",
   "execution_count": 21,
   "metadata": {},
   "outputs": [
    {
     "data": {
      "text/plain": [
       "array([19111., 19120., 19122., 19124., 19125., 19132., 19133., 19134.,\n",
       "       19135., 19136., 19140., 19143., 19145., 19148., 19149., 19152.,\n",
       "       19154.,    nan])"
      ]
     },
     "execution_count": 21,
     "metadata": {},
     "output_type": "execute_result"
    }
   ],
   "source": [
    "df_zip['participant_zip'].unique()"
   ]
  },
  {
   "cell_type": "code",
   "execution_count": 22,
   "metadata": {},
   "outputs": [
    {
     "data": {
      "text/plain": [
       "Index(['participant_zip', 'avg_outcome_ems', 'avg_outcome_police',\n",
       "       'avg_outcome_ed', 'avg_outcome_death', 'avg_outcome_unk',\n",
       "       'avg_outcome_ok', 'avg_od_drug_heroin', 'avg_od_drug_cocaine',\n",
       "       'avg_od_drug_fentanyl', 'avg_od_drug_unknown', 'avg_od_drug_other',\n",
       "       'avg_od_present_breath', 'avg_od_present_unresponsive',\n",
       "       'avg_od_present_coloring', 'avg_od_present_other', 'avg_cpr_used',\n",
       "       'n_observations'],\n",
       "      dtype='object')"
      ]
     },
     "execution_count": 22,
     "metadata": {},
     "output_type": "execute_result"
    }
   ],
   "source": [
    "df_zip.columns"
   ]
  },
  {
   "cell_type": "code",
   "execution_count": 24,
   "metadata": {},
   "outputs": [
    {
     "data": {
      "text/html": [
       "<div>\n",
       "<style scoped>\n",
       "    .dataframe tbody tr th:only-of-type {\n",
       "        vertical-align: middle;\n",
       "    }\n",
       "\n",
       "    .dataframe tbody tr th {\n",
       "        vertical-align: top;\n",
       "    }\n",
       "\n",
       "    .dataframe thead th {\n",
       "        text-align: right;\n",
       "    }\n",
       "</style>\n",
       "<table border=\"1\" class=\"dataframe\">\n",
       "  <thead>\n",
       "    <tr style=\"text-align: right;\">\n",
       "      <th></th>\n",
       "      <th>participant_zip</th>\n",
       "      <th>avg_outcome_ems</th>\n",
       "      <th>avg_outcome_police</th>\n",
       "      <th>avg_outcome_ed</th>\n",
       "      <th>avg_outcome_death</th>\n",
       "      <th>avg_outcome_unk</th>\n",
       "      <th>avg_outcome_ok</th>\n",
       "      <th>avg_od_drug_heroin</th>\n",
       "      <th>avg_od_drug_cocaine</th>\n",
       "      <th>avg_od_drug_fentanyl</th>\n",
       "      <th>avg_od_drug_unknown</th>\n",
       "      <th>avg_od_drug_other</th>\n",
       "      <th>avg_od_present_breath</th>\n",
       "      <th>avg_od_present_unresponsive</th>\n",
       "      <th>avg_od_present_coloring</th>\n",
       "      <th>avg_od_present_other</th>\n",
       "      <th>avg_cpr_used</th>\n",
       "      <th>n_observations</th>\n",
       "    </tr>\n",
       "  </thead>\n",
       "  <tbody>\n",
       "    <tr>\n",
       "      <th>0</th>\n",
       "      <td>19111.0</td>\n",
       "      <td>0.366667</td>\n",
       "      <td>0.150000</td>\n",
       "      <td>0.200000</td>\n",
       "      <td>0.000000</td>\n",
       "      <td>0.150000</td>\n",
       "      <td>0.700000</td>\n",
       "      <td>0.517241</td>\n",
       "      <td>0.068966</td>\n",
       "      <td>0.310345</td>\n",
       "      <td>0.241379</td>\n",
       "      <td>0.161290</td>\n",
       "      <td>0.642857</td>\n",
       "      <td>0.750000</td>\n",
       "      <td>0.678571</td>\n",
       "      <td>0.000000</td>\n",
       "      <td>0.600000</td>\n",
       "      <td>31</td>\n",
       "    </tr>\n",
       "    <tr>\n",
       "      <th>1</th>\n",
       "      <td>19120.0</td>\n",
       "      <td>0.318182</td>\n",
       "      <td>0.210526</td>\n",
       "      <td>0.052632</td>\n",
       "      <td>0.000000</td>\n",
       "      <td>0.052632</td>\n",
       "      <td>0.526316</td>\n",
       "      <td>0.695652</td>\n",
       "      <td>0.130435</td>\n",
       "      <td>0.652174</td>\n",
       "      <td>0.000000</td>\n",
       "      <td>0.000000</td>\n",
       "      <td>0.304348</td>\n",
       "      <td>0.565217</td>\n",
       "      <td>0.478261</td>\n",
       "      <td>0.043478</td>\n",
       "      <td>0.428571</td>\n",
       "      <td>26</td>\n",
       "    </tr>\n",
       "    <tr>\n",
       "      <th>2</th>\n",
       "      <td>19122.0</td>\n",
       "      <td>0.187500</td>\n",
       "      <td>0.115385</td>\n",
       "      <td>0.000000</td>\n",
       "      <td>0.000000</td>\n",
       "      <td>0.076923</td>\n",
       "      <td>0.769231</td>\n",
       "      <td>0.366667</td>\n",
       "      <td>0.033333</td>\n",
       "      <td>0.366667</td>\n",
       "      <td>0.266667</td>\n",
       "      <td>0.093750</td>\n",
       "      <td>0.387097</td>\n",
       "      <td>0.419355</td>\n",
       "      <td>0.322581</td>\n",
       "      <td>0.225806</td>\n",
       "      <td>0.333333</td>\n",
       "      <td>36</td>\n",
       "    </tr>\n",
       "    <tr>\n",
       "      <th>3</th>\n",
       "      <td>19124.0</td>\n",
       "      <td>0.358209</td>\n",
       "      <td>0.176471</td>\n",
       "      <td>0.125000</td>\n",
       "      <td>0.026144</td>\n",
       "      <td>0.071895</td>\n",
       "      <td>0.581699</td>\n",
       "      <td>0.820513</td>\n",
       "      <td>0.200000</td>\n",
       "      <td>0.528205</td>\n",
       "      <td>0.061538</td>\n",
       "      <td>0.088235</td>\n",
       "      <td>0.438144</td>\n",
       "      <td>0.541237</td>\n",
       "      <td>0.556701</td>\n",
       "      <td>0.030928</td>\n",
       "      <td>0.453333</td>\n",
       "      <td>219</td>\n",
       "    </tr>\n",
       "    <tr>\n",
       "      <th>4</th>\n",
       "      <td>19125.0</td>\n",
       "      <td>0.206186</td>\n",
       "      <td>0.115942</td>\n",
       "      <td>0.072464</td>\n",
       "      <td>0.043478</td>\n",
       "      <td>0.202899</td>\n",
       "      <td>0.608696</td>\n",
       "      <td>0.648352</td>\n",
       "      <td>0.109890</td>\n",
       "      <td>0.494505</td>\n",
       "      <td>0.098901</td>\n",
       "      <td>0.140000</td>\n",
       "      <td>0.377778</td>\n",
       "      <td>0.511111</td>\n",
       "      <td>0.555556</td>\n",
       "      <td>0.011236</td>\n",
       "      <td>0.419355</td>\n",
       "      <td>102</td>\n",
       "    </tr>\n",
       "  </tbody>\n",
       "</table>\n",
       "</div>"
      ],
      "text/plain": [
       "   participant_zip  avg_outcome_ems  avg_outcome_police  avg_outcome_ed  \\\n",
       "0          19111.0         0.366667            0.150000        0.200000   \n",
       "1          19120.0         0.318182            0.210526        0.052632   \n",
       "2          19122.0         0.187500            0.115385        0.000000   \n",
       "3          19124.0         0.358209            0.176471        0.125000   \n",
       "4          19125.0         0.206186            0.115942        0.072464   \n",
       "\n",
       "   avg_outcome_death  avg_outcome_unk  avg_outcome_ok  avg_od_drug_heroin  \\\n",
       "0           0.000000         0.150000        0.700000            0.517241   \n",
       "1           0.000000         0.052632        0.526316            0.695652   \n",
       "2           0.000000         0.076923        0.769231            0.366667   \n",
       "3           0.026144         0.071895        0.581699            0.820513   \n",
       "4           0.043478         0.202899        0.608696            0.648352   \n",
       "\n",
       "   avg_od_drug_cocaine  avg_od_drug_fentanyl  avg_od_drug_unknown  \\\n",
       "0             0.068966              0.310345             0.241379   \n",
       "1             0.130435              0.652174             0.000000   \n",
       "2             0.033333              0.366667             0.266667   \n",
       "3             0.200000              0.528205             0.061538   \n",
       "4             0.109890              0.494505             0.098901   \n",
       "\n",
       "   avg_od_drug_other  avg_od_present_breath  avg_od_present_unresponsive  \\\n",
       "0           0.161290               0.642857                     0.750000   \n",
       "1           0.000000               0.304348                     0.565217   \n",
       "2           0.093750               0.387097                     0.419355   \n",
       "3           0.088235               0.438144                     0.541237   \n",
       "4           0.140000               0.377778                     0.511111   \n",
       "\n",
       "   avg_od_present_coloring  avg_od_present_other  avg_cpr_used  n_observations  \n",
       "0                 0.678571              0.000000      0.600000              31  \n",
       "1                 0.478261              0.043478      0.428571              26  \n",
       "2                 0.322581              0.225806      0.333333              36  \n",
       "3                 0.556701              0.030928      0.453333             219  \n",
       "4                 0.555556              0.011236      0.419355             102  "
      ]
     },
     "execution_count": 24,
     "metadata": {},
     "output_type": "execute_result"
    }
   ],
   "source": [
    "df_zip.head()"
   ]
  },
  {
   "cell_type": "code",
   "execution_count": null,
   "metadata": {},
   "outputs": [],
   "source": [
    "df_zip"
   ]
  },
  {
   "cell_type": "code",
   "execution_count": 25,
   "metadata": {},
   "outputs": [],
   "source": [
    "data_name2 = '../data/data/dph_dash_ems_naloxone_zip.csv'"
   ]
  },
  {
   "cell_type": "code",
   "execution_count": 26,
   "metadata": {},
   "outputs": [],
   "source": [
    "df = pd.read_csv(data_name2)"
   ]
  },
  {
   "cell_type": "code",
   "execution_count": 27,
   "metadata": {},
   "outputs": [
    {
     "data": {
      "text/html": [
       "<div>\n",
       "<style scoped>\n",
       "    .dataframe tbody tr th:only-of-type {\n",
       "        vertical-align: middle;\n",
       "    }\n",
       "\n",
       "    .dataframe tbody tr th {\n",
       "        vertical-align: top;\n",
       "    }\n",
       "\n",
       "    .dataframe thead th {\n",
       "        text-align: right;\n",
       "    }\n",
       "</style>\n",
       "<table border=\"1\" class=\"dataframe\">\n",
       "  <thead>\n",
       "    <tr style=\"text-align: right;\">\n",
       "      <th></th>\n",
       "      <th>Pickup.Zip.Code</th>\n",
       "      <th>Numebr.of.Records</th>\n",
       "    </tr>\n",
       "  </thead>\n",
       "  <tbody>\n",
       "    <tr>\n",
       "      <th>0</th>\n",
       "      <td>19116</td>\n",
       "      <td>187</td>\n",
       "    </tr>\n",
       "    <tr>\n",
       "      <th>1</th>\n",
       "      <td>19154</td>\n",
       "      <td>281</td>\n",
       "    </tr>\n",
       "    <tr>\n",
       "      <th>2</th>\n",
       "      <td>19115</td>\n",
       "      <td>149</td>\n",
       "    </tr>\n",
       "    <tr>\n",
       "      <th>3</th>\n",
       "      <td>19114</td>\n",
       "      <td>233</td>\n",
       "    </tr>\n",
       "    <tr>\n",
       "      <th>4</th>\n",
       "      <td>19111</td>\n",
       "      <td>301</td>\n",
       "    </tr>\n",
       "  </tbody>\n",
       "</table>\n",
       "</div>"
      ],
      "text/plain": [
       "   Pickup.Zip.Code  Numebr.of.Records\n",
       "0            19116                187\n",
       "1            19154                281\n",
       "2            19115                149\n",
       "3            19114                233\n",
       "4            19111                301"
      ]
     },
     "execution_count": 27,
     "metadata": {},
     "output_type": "execute_result"
    }
   ],
   "source": [
    "df.head()"
   ]
  },
  {
   "cell_type": "code",
   "execution_count": null,
   "metadata": {},
   "outputs": [],
   "source": []
  }
 ],
 "metadata": {
  "kernelspec": {
   "display_name": "Python 3",
   "language": "python",
   "name": "python3"
  },
  "language_info": {
   "codemirror_mode": {
    "name": "ipython",
    "version": 3
   },
   "file_extension": ".py",
   "mimetype": "text/x-python",
   "name": "python",
   "nbconvert_exporter": "python",
   "pygments_lexer": "ipython3",
   "version": "3.7.3"
  }
 },
 "nbformat": 4,
 "nbformat_minor": 2
}
